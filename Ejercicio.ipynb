{
  "nbformat": 4,
  "nbformat_minor": 0,
  "metadata": {
    "colab": {
      "name": "Ejercicio.ipynb",
      "provenance": [],
      "include_colab_link": true
    },
    "kernelspec": {
      "name": "python3",
      "display_name": "Python 3"
    }
  },
  "cells": [
    {
      "cell_type": "markdown",
      "metadata": {
        "id": "view-in-github",
        "colab_type": "text"
      },
      "source": [
        "<a href=\"https://colab.research.google.com/github/cdecheverria/Colaboratory/blob/master/Ejercicio.ipynb\" target=\"_parent\"><img src=\"https://colab.research.google.com/assets/colab-badge.svg\" alt=\"Open In Colab\"/></a>"
      ]
    },
    {
      "cell_type": "code",
      "metadata": {
        "id": "kMz-1bJEkG8V",
        "colab_type": "code",
        "colab": {
          "base_uri": "https://localhost:8080/",
          "height": 34
        },
        "cellView": "form",
        "outputId": "0ee3fc5a-81b4-45d3-ad54-37d7bc768f85"
      },
      "source": [
        "#@title Proyecto 2 { run: \"auto\", vertical-output: true }\n",
        "np = \"2\" #@param [\"1\", \"2\", \"3\", \"4\", \"5\"]\n",
        "if np == \"1\":\n",
        "        print (\"fallo en el refresco de la memoria\")\n",
        "elif np == \"2\":\n",
        "          print (\" fallo de memoria. Error de paridad\")\n",
        "elif np == \"3\":\n",
        "      print(\"Fallo en la memoria base de 64K\")\n",
        "elif np == \"4\":\n",
        "      print(\"fallo en el timer del sistema.\")\n",
        "else:\n",
        "      print (\"Error desconocido\")\n"
      ],
      "execution_count": 5,
      "outputs": [
        {
          "output_type": "stream",
          "text": [
            " fallo de memoria. Error de paridad\n"
          ],
          "name": "stdout"
        }
      ]
    }
  ]
}